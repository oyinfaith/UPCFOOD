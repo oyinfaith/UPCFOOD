code = ["0846675000132", "0180999000264",  "3017620422003"]
api.product.get(code, fields=["code", "product_name","selected_images", "image_front_small_url", "image_front_thumb_url", 
                              "image_front_url", "image_ingredients_small_url", "image_ingredients_url", "image_nutrition_url", "image_url", ""])
#"ingredients"

#To get the nutritional facts, I used a link but I need something simpler.
https://world.openfoodfacts.org/product/0180999000264/lil-puffs
