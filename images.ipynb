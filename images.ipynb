{
 "cells": [
  {
   "cell_type": "code",
   "execution_count": null,
   "metadata": {},
   "outputs": [],
   "source": [
    "# pip install openfoodfacts"
   ]
  },
  {
   "cell_type": "code",
   "execution_count": null,
   "metadata": {},
   "outputs": [],
   "source": [
    "from openfoodfacts import API, APIVersion, Country, Environment, Flavor\n",
    "\n",
    "api = API(\n",
    "    # Visit https://world.openfoodfacts.org/ to Create API User Account\n",
    "    username=\"OyinFaith\",\n",
    "    password=\"Gideon_Oyin\",\n",
    "    country=Country.world,\n",
    "    flavor=Flavor.off,\n",
    "    version=APIVersion.v2,\n",
    "    environment=Environment.org,\n",
    ")"
   ]
  },
  {
   "cell_type": "code",
   "execution_count": null,
   "metadata": {},
   "outputs": [],
   "source": [
    "code = \"3017620422003\"\n",
    "api.product.get(code, fields=[\"code\", \"product_name\"])"
   ]
  },
  {
   "cell_type": "code",
   "execution_count": null,
   "metadata": {},
   "outputs": [],
   "source": [
    "code = \"3017620422003\"\n",
    "api.product.get(code, fields=[\"code\", \"product_name\", \"nutrition\"])"
   ]
  },
  {
   "cell_type": "code",
   "execution_count": null,
   "metadata": {},
   "outputs": [],
   "source": [
    "code = \"3274080005003\"\n",
    "api.product.get(code, fields=[\"code\", \"product_name\", \"urls\"])"
   ]
  },
  {
   "cell_type": "code",
   "execution_count": null,
   "metadata": {},
   "outputs": [],
   "source": [
    "api.product.text_search(\"Eau de source\")"
   ]
  },
  {
   "cell_type": "code",
   "execution_count": null,
   "metadata": {},
   "outputs": [],
   "source": [
    "api.product.text_search(\"Beech-Nut Stage 1 White Grape Juice\")"
   ]
  },
  {
   "cell_type": "code",
   "execution_count": null,
   "metadata": {},
   "outputs": [],
   "source": [
    "api.product.text_search(\"Beech-Nut Stage 1 White Grape Juice\")"
   ]
  },
  {
   "cell_type": "code",
   "execution_count": null,
   "metadata": {},
   "outputs": [],
   "source": [
    "import requests\n",
    "from requests.exceptions import RequestException\n",
    "\n",
    "url = 'https://world.openfoodfacts.org'\n",
    "\n",
    "# Retry up to 3 times with a delay of 5 seconds\n",
    "for _ in range(3):\n",
    "    try:\n",
    "        response = requests.get(url, timeout=10)\n",
    "        # Process the response if successful\n",
    "        if response.status_code == 200:\n",
    "            print(response.text)\n",
    "            break\n",
    "    except RequestException as e:\n",
    "        print(f\"Error: {e}\")\n"
   ]
  },
  {
   "cell_type": "code",
   "execution_count": null,
   "metadata": {},
   "outputs": [],
   "source": [
    "api.product.text_search(\"Earth's Best Organic Apple Juice Stage 2\")"
   ]
  }
 ],
 "metadata": {
  "kernelspec": {
   "display_name": "test_new",
   "language": "python",
   "name": "python3"
  },
  "language_info": {
   "codemirror_mode": {
    "name": "ipython",
    "version": 3
   },
   "file_extension": ".py",
   "mimetype": "text/x-python",
   "name": "python",
   "nbconvert_exporter": "python",
   "pygments_lexer": "ipython3",
   "version": "3.12.0"
  }
 },
 "nbformat": 4,
 "nbformat_minor": 2
}
