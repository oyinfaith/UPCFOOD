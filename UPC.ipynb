{
 "cells": [
  {
   "cell_type": "code",
   "execution_count": null,
   "metadata": {},
   "outputs": [],
   "source": [
    "# import requests\n",
    "# from bs4 import BeautifulSoup"
   ]
  },
  {
   "cell_type": "code",
   "execution_count": null,
   "metadata": {},
   "outputs": [],
   "source": [
    "# url = \"https://upcfoodsearch.com/food-products/other-baby-formula/\"\n",
    "# page = requests.get(url)\n",
    "\n",
    "# soup = BeautifulSoup(page.content, \"html.parser\")"
   ]
  },
  {
   "cell_type": "code",
   "execution_count": null,
   "metadata": {},
   "outputs": [],
   "source": [
    "results = soup.find(id=\"content\")"
   ]
  },
  {
   "cell_type": "code",
   "execution_count": null,
   "metadata": {},
   "outputs": [],
   "source": [
    "# print(results.prettify())"
   ]
  },
  {
   "cell_type": "code",
   "execution_count": null,
   "metadata": {},
   "outputs": [],
   "source": [
    "# selection = results.find_all(\"a\", class_=\"list-group-item\")\n"
   ]
  },
  {
   "cell_type": "code",
   "execution_count": null,
   "metadata": {},
   "outputs": [],
   "source": [
    "# for s in selection:\n",
    "    # print(s, end=\"\\n\"*2)"
   ]
  },
  {
   "cell_type": "code",
   "execution_count": null,
   "metadata": {},
   "outputs": [],
   "source": [
    "import requests\n",
    "from bs4 import BeautifulSoup\n",
    "import pandas as pd\n",
    "\n",
    "try:\n",
    "    # URL of the website containing the list of product names and URLs\n",
    "    url = 'https://upcfoodsearch.com/food-products/other-baby-snacks/p-3/'\n",
    "\n",
    "    # Send an HTTP request to the URL\n",
    "    response = requests.get(url)\n",
    "\n",
    "    # Check if the request was successful (status code 200)\n",
    "    if response.status_code == 200:\n",
    "        # Parse the HTML content using BeautifulSoup\n",
    "        soup = BeautifulSoup(response.content, 'html.parser')\n",
    "\n",
    "        # Find all <a> elements with class 'list-group-item'\n",
    "        product_links = soup.find_all('a', class_='list-group-item')\n",
    "\n",
    "        # Extract product names and URLs\n",
    "        Baby_data4 = []\n",
    "        for link in product_links:\n",
    "            product_name = link.text.strip()  # Get the product name and remove leading/trailing whitespaces\n",
    "            product_url = link['href']  # Get the URL from the 'href' attribute\n",
    "            Baby_data4.append({'URL': product_url,  'Product Name': product_name,})\n",
    "\n",
    "        # Create a DataFrame using pandas\n",
    "        df = pd.DataFrame(Baby_data4)\n",
    "\n",
    "        # Export DataFrame to Excel file\n",
    "        excel_file = r'C:\\Users\\DELL\\Desktop\\UPCExcelFiles\\other_baby_snacks3.xlsx'\n",
    "        df.to_excel(excel_file, index=False)\n",
    "\n",
    "        print(f\"Excel file '{excel_file}' created successfully with product data.\")\n",
    "    else:\n",
    "        print(f\"Failed to fetch data. Status code: {response.status_code}\")\n",
    "\n",
    "except requests.RequestException as e:\n",
    "    print(f\"An error occurred: {e}\")\n",
    "except Exception as ex:\n",
    "    print(f\"An unexpected error occurred: {ex}\")"
   ]
  }
 ],
 "metadata": {
  "kernelspec": {
   "display_name": "test_new",
   "language": "python",
   "name": "python3"
  },
  "language_info": {
   "codemirror_mode": {
    "name": "ipython",
    "version": 3
   },
   "file_extension": ".py",
   "mimetype": "text/x-python",
   "name": "python",
   "nbconvert_exporter": "python",
   "pygments_lexer": "ipython3",
   "version": "3.12.0"
  }
 },
 "nbformat": 4,
 "nbformat_minor": 2
}
