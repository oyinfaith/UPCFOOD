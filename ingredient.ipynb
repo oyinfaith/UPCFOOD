{
 "cells": [
  {
   "cell_type": "code",
   "execution_count": 63,
   "metadata": {},
   "outputs": [
    {
     "name": "stdout",
     "output_type": "stream",
     "text": [
      "Excel file 'c:\\Users\\DELL\\Desktop\\UPCIngredent\\milk.xlsx' created successfully with ingredient data.\n"
     ]
    }
   ],
   "source": [
    "import requests\n",
    "from bs4 import BeautifulSoup\n",
    "import pandas as pd\n",
    "\n",
    "url_list = [\n",
    "    \"https://upcfoodsearch.com/food-products/milk-based/070074576640/\",\n",
    "    \"https://upcfoodsearch.com/food-products/milk-based/070074533643/\",\n",
    "    \"https://upcfoodsearch.com/food-products/milk-based/070074508283/\",\n",
    "    \"https://upcfoodsearch.com/food-products/milk-based/070074508221/\",\n",
    "    \"https://upcfoodsearch.com/food-products/milk-based/070074598840/\",\n",
    "    \"https://upcfoodsearch.com/food-products/milk-based/070074575346/\",\n",
    "    \"https://upcfoodsearch.com/food-products/milk-based/070074569741/\",\n",
    "    \"https://upcfoodsearch.com/food-products/milk-based/070074574318/\",\n",
    "    \"https://upcfoodsearch.com/food-products/milk-based/683744130013/\"\n",
    "]\n",
    "\n",
    "# Create an empty list to store the data\n",
    "data_list = []\n",
    "\n",
    "for url in url_list:\n",
    "    page = requests.get(url)\n",
    "    soup = BeautifulSoup(page.content, \"html.parser\")\n",
    "    results = soup.find('div', {'id': 'ingredientsStyled'})\n",
    "    \n",
    "    # Extract relevant data from the results\n",
    "    if results:\n",
    "        ingredient_text = results.get_text(strip=True)\n",
    "        data_list.append({'URL': url, 'Ingredients': ingredient_text})\n",
    "\n",
    "# Create a DataFrame using pandas\n",
    "df = pd.DataFrame(data_list)\n",
    "\n",
    "# Export DataFrame to Excel file\n",
    "excel_file = r'c:\\Users\\DELL\\Desktop\\UPCIngredent\\milk.xlsx'\n",
    "df.to_excel(excel_file, index=False)\n",
    "\n",
    "print(f\"Excel file '{excel_file}' created successfully with ingredient data.\")\n"
   ]
  },
  {
   "cell_type": "code",
   "execution_count": null,
   "metadata": {},
   "outputs": [],
   "source": []
  }
 ],
 "metadata": {
  "kernelspec": {
   "display_name": "test_new",
   "language": "python",
   "name": "python3"
  },
  "language_info": {
   "codemirror_mode": {
    "name": "ipython",
    "version": 3
   },
   "file_extension": ".py",
   "mimetype": "text/x-python",
   "name": "python",
   "nbconvert_exporter": "python",
   "pygments_lexer": "ipython3",
   "version": "3.12.0"
  }
 },
 "nbformat": 4,
 "nbformat_minor": 2
}
