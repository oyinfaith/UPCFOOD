{
 "cells": [
  {
   "cell_type": "code",
   "execution_count": 1,
   "metadata": {},
   "outputs": [],
   "source": [
    "import requests\n",
    "from bs4 import BeautifulSoup"
   ]
  },
  {
   "cell_type": "code",
   "execution_count": 2,
   "metadata": {},
   "outputs": [],
   "source": [
    "url = \"https://upcfoodsearch.com/food-products/food-coloring/033844006693/\"\n",
    "response = requests.get(url)\n",
    "soup = BeautifulSoup(response.content, 'html.parser')\n",
    "table = soup.find('table', class_='table table-striped')"
   ]
  },
  {
   "cell_type": "code",
   "execution_count": 3,
   "metadata": {},
   "outputs": [
    {
     "name": "stdout",
     "output_type": "stream",
     "text": [
      "Category\n",
      "Baking Supplies  Other Baking Supplies  Food Coloring\n",
      "------\n",
      "Manufacturer\n",
      "\n",
      "Badia Spices Inc. \n",
      "------\n",
      "Size\n",
      "\n",
      "2 oz (56 g) \n",
      "------\n",
      "Product Origin\n",
      "\n",
      "United States \n",
      "------\n",
      "GMO Free Status\n",
      "\n",
      "This product either is not marked as \"GMO Free\" on the packaging or GMO Free status is otherwise unknown about this product; However, this product may still be GMO Free. \n",
      "------\n",
      "Packaging Materials\n",
      "\n",
      "Plastic \n",
      "------\n",
      "Certifications\n",
      "Unknown\n",
      "------\n"
     ]
    }
   ],
   "source": [
    "if table:\n",
    "    rows = table.find_all('tr') \n",
    "    for row in rows:\n",
    "        cells = row.find_all(['th', 'td']) \n",
    "        for cell in cells:\n",
    "            print(cell.text)  \n",
    "        print('------') \n",
    "else:\n",
    "    print(\"Table not found on the page\")"
   ]
  },
  {
   "cell_type": "code",
   "execution_count": null,
   "metadata": {},
   "outputs": [],
   "source": [
    "import requests\n",
    "from bs4 import BeautifulSoup\n",
    "import pandas as pd\n",
    "\n",
    "url_list = [\n",
    "    \"https://upcfoodsearch.com/food-products/milk-based/070074576640/\",\n",
    "    \"https://upcfoodsearch.com/food-products/milk-based/070074533643/\",\n",
    "    \"https://upcfoodsearch.com/food-products/milk-based/070074508283/\",\n",
    "    \"https://upcfoodsearch.com/food-products/milk-based/070074508221/\",\n",
    "    \"https://upcfoodsearch.com/food-products/milk-based/070074598840/\",\n",
    "    \"https://upcfoodsearch.com/food-products/milk-based/070074575346/\",\n",
    "    \"https://upcfoodsearch.com/food-products/milk-based/070074569741/\",\n",
    "    \"https://upcfoodsearch.com/food-products/milk-based/070074574318/\",\n",
    "    \"https://upcfoodsearch.com/food-products/milk-based/683744130013/\"\n",
    "]\n",
    "\n",
    "# Create an empty list to store the data\n",
    "data_list = []\n",
    "\n",
    "for url in url_list:\n",
    "    page = requests.get(url)\n",
    "    soup = BeautifulSoup(page.content, \"html.parser\")\n",
    "    results = soup.find('table', class_='table table-striped')\n",
    "   \n",
    "    \n",
    "else:\n",
    "    print(\"Table not found on the page\")\n",
    "    \n",
    "    # Extract relevant data from the results\n",
    "    if results:\n",
    "        ingredient_text = results.get_text(strip=True)\n",
    "        data_list.append({'URL': url, 'Ingredients': ingredient_text})\n",
    "\n",
    "        if table:\n",
    "            rows = table.find_all('tr') \n",
    "        for row in rows:\n",
    "            cells = row.find_all(['th', 'td']) \n",
    "        for cell in cells:\n",
    "            manufacture_text = results.get_text(strip=True)\n",
    "            Size_type = results.get_text(strip=True)\n",
    "            Products_Origin = results.get_text(strip=True)\n",
    "            GMO_Free_Status = results.get_text(strip=True)\n",
    "            Packaging_Materials = results.get_text(strip=True)\n",
    "            Certifications = results.get_text(strip=True)\n",
    "            data_list.append({'URL': url, 'Manufacturer': manufacture_text,'Size':Size_type,'Product Origin':Products_Origin,\n",
    "                               'GMO Free Status':GMO_Free_Status, 'Packaging Materials': Packaging_Materials, 'Certifications': Certifications})\n",
    "\n",
    "\n",
    "# Create a DataFrame using pandas\n",
    "df = pd.DataFrame(data_list)\n",
    "\n",
    "# Export DataFrame to Excel file\n",
    "excel_file = r'c:\\Users\\DELL\\Desktop\\UPCIngredent\\milk.xlsx'\n",
    "df.to_excel(excel_file, index=False)\n",
    "\n",
    "print(f\"Excel file '{excel_file}' created successfully with ingredient data.\")\n"
   ]
  }
 ],
 "metadata": {
  "kernelspec": {
   "display_name": "Python 3",
   "language": "python",
   "name": "python3"
  },
  "language_info": {
   "codemirror_mode": {
    "name": "ipython",
    "version": 3
   },
   "file_extension": ".py",
   "mimetype": "text/x-python",
   "name": "python",
   "nbconvert_exporter": "python",
   "pygments_lexer": "ipython3",
   "version": "3.12.0"
  }
 },
 "nbformat": 4,
 "nbformat_minor": 2
}
